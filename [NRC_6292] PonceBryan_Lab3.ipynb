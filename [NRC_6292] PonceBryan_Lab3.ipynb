{
 "cells": [
  {
   "cell_type": "code",
   "execution_count": 1,
   "id": "faa4d506",
   "metadata": {},
   "outputs": [],
   "source": [
    "\"\"\"Importar numpy para realizar matrices\"\"\"\n",
    "import numpy as np\n",
    "\"\"\"Librería para generar números aleatorios\"\"\"\n",
    "from scipy import stats\n",
    "%matplotlib notebook\n",
    "\"\"\"Librería para realizar la gráfica\"\"\"\n",
    "import matplotlib.pyplot as plt\n"
   ]
  },
  {
   "cell_type": "code",
   "execution_count": 2,
   "id": "c4fe7574",
   "metadata": {},
   "outputs": [],
   "source": [
    "\"\"\"Datos generados de manera random\"\"\"\n",
    "rng = np.random.default_rng()\n",
    "\n",
    "\"\"\"Genera 10 datos aleatorios y se guarda en la variable\"\"\"\n",
    "x = rng.random(10) \n",
    "\"\"\"Se crea el modelo en base a los datos de X\"\"\"\n",
    "y = 2 * x + rng.random(10)\n"
   ]
  },
  {
   "cell_type": "code",
   "execution_count": 3,
   "id": "fca0c2d8",
   "metadata": {},
   "outputs": [],
   "source": [
    "\"\"\"Calculo de la regresión lineal\"\"\"\n",
    "slope, intercept, r, p, std_err = stats.linregress(x, y)\n",
    "\"\"\"Se crea una función auxiliar\"\"\"\n",
    "def fitted_value(x):\n",
    "    return slope * x + intercept"
   ]
  },
  {
   "cell_type": "code",
   "execution_count": 4,
   "id": "9eb1f26a",
   "metadata": {},
   "outputs": [],
   "source": [
    "\"\"\"Calculo de valores\"\"\"\n",
    "new_values = list(map(fitted_value, x))"
   ]
  },
  {
   "cell_type": "code",
   "execution_count": 5,
   "id": "a441ed47",
   "metadata": {},
   "outputs": [
    {
     "ename": "NameError",
     "evalue": "name 'plt' is not defined",
     "output_type": "error",
     "traceback": [
      "\u001b[1;31m---------------------------------------------------------------------------\u001b[0m",
      "\u001b[1;31mNameError\u001b[0m                                 Traceback (most recent call last)",
      "Input \u001b[1;32mIn [5]\u001b[0m, in \u001b[0;36m<cell line: 2>\u001b[1;34m()\u001b[0m\n\u001b[0;32m      1\u001b[0m \u001b[38;5;124;03m\"\"\"Gráfica los puntos\"\"\"\u001b[39;00m\n\u001b[1;32m----> 2\u001b[0m \u001b[43mplt\u001b[49m\u001b[38;5;241m.\u001b[39mplot(x, y, \u001b[38;5;124m'\u001b[39m\u001b[38;5;124mo\u001b[39m\u001b[38;5;124m'\u001b[39m, label\u001b[38;5;241m=\u001b[39m\u001b[38;5;124m'\u001b[39m\u001b[38;5;124moriginal data\u001b[39m\u001b[38;5;124m'\u001b[39m)\n\u001b[0;32m      3\u001b[0m \u001b[38;5;124;03m\"\"\"Crea la linea de la regresion\"\"\"\u001b[39;00m\n\u001b[0;32m      4\u001b[0m plt\u001b[38;5;241m.\u001b[39mplot(x, new_values, \u001b[38;5;124m'\u001b[39m\u001b[38;5;124mr\u001b[39m\u001b[38;5;124m'\u001b[39m, label\u001b[38;5;241m=\u001b[39m\u001b[38;5;124m'\u001b[39m\u001b[38;5;124mfitted line\u001b[39m\u001b[38;5;124m'\u001b[39m)\n",
      "\u001b[1;31mNameError\u001b[0m: name 'plt' is not defined"
     ]
    }
   ],
   "source": [
    "\"\"\"Gráfica los puntos\"\"\"\n",
    "plt.plot(x, y, 'o', label='original data')\n",
    "\"\"\"Crea la linea de la regresion\"\"\"\n",
    "plt.plot(x, new_values, 'r', label='fitted line')\n",
    "\"\"\"Para representar los datos\"\"\"\n",
    "plt.legend()"
   ]
  },
  {
   "cell_type": "code",
   "execution_count": null,
   "id": "d1bdbd30",
   "metadata": {},
   "outputs": [],
   "source": []
  }
 ],
 "metadata": {
  "kernelspec": {
   "display_name": "Python 3 (ipykernel)",
   "language": "python",
   "name": "python3"
  },
  "language_info": {
   "codemirror_mode": {
    "name": "ipython",
    "version": 3
   },
   "file_extension": ".py",
   "mimetype": "text/x-python",
   "name": "python",
   "nbconvert_exporter": "python",
   "pygments_lexer": "ipython3",
   "version": "3.9.12"
  }
 },
 "nbformat": 4,
 "nbformat_minor": 5
}
