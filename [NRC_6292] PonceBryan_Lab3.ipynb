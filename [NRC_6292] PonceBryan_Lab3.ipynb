{
 "cells": [
  {
   "cell_type": "code",
   "execution_count": 1,
   "id": "31d780ac",
   "metadata": {},
   "outputs": [],
   "source": [
    "\"\"\"Importar numpy para realizar matrices\"\"\"\n",
    "import numpy as np\n",
    "\"\"\"Librería para generar números aleatorios\"\"\"\n",
    "from scipy import stats\n"
   ]
  },
  {
   "cell_type": "code",
   "execution_count": 2,
   "id": "194b90f1",
   "metadata": {},
   "outputs": [],
   "source": [
    "\"\"\"Datos generados de manera random\"\"\"\n",
    "rng = np.random.default_rng()\n",
    "\n",
    "\"\"\"Genera 10 datos aleatorios y se guarda en la variable\"\"\"\n",
    "x = rng.random(10) \n",
    "\"\"\"Se crea el modelo en base a los datos de X\"\"\"\n",
    "y = 2 * x + rng.random(10)\n"
   ]
  },
  {
   "cell_type": "code",
   "execution_count": 3,
   "id": "b52898b2",
   "metadata": {},
   "outputs": [],
   "source": [
    "\"\"\"Calculo de la regresión lineal\"\"\"\n",
    "slope, intercept, r, p, std_err = stats.linregress(x, y)\n",
    "\"\"\"Se crea una función auxiliar\"\"\"\n",
    "def fitted_value(x):\n",
    "    return slope * x + intercept\n"
   ]
  },
  {
   "cell_type": "code",
   "execution_count": null,
   "id": "3103fffc",
   "metadata": {},
   "outputs": [],
   "source": []
  }
 ],
 "metadata": {
  "kernelspec": {
   "display_name": "Python 3 (ipykernel)",
   "language": "python",
   "name": "python3"
  },
  "language_info": {
   "codemirror_mode": {
    "name": "ipython",
    "version": 3
   },
   "file_extension": ".py",
   "mimetype": "text/x-python",
   "name": "python",
   "nbconvert_exporter": "python",
   "pygments_lexer": "ipython3",
   "version": "3.9.12"
  }
 },
 "nbformat": 4,
 "nbformat_minor": 5
}
