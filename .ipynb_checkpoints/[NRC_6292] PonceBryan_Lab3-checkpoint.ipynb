{
 "cells": [
  {
   "cell_type": "code",
   "execution_count": 1,
   "id": "1715285d",
   "metadata": {},
   "outputs": [],
   "source": [
    "\"\"\"Importar numpy para realizar matrices\"\"\"\n",
    "import numpy as np\n"
   ]
  },
  {
   "cell_type": "code",
   "execution_count": 2,
   "id": "97d88340",
   "metadata": {},
   "outputs": [],
   "source": [
    "\"\"\"Datos generados de manera random\"\"\"\n",
    "rng = np.random.default_rng()\n",
    "\n",
    "\"\"\"Genera 10 datos aleatorios y se guarda en la variable\"\"\"\n",
    "x = rng.random(10) \n",
    "\"\"\"Se crea el modelo en base a los datos de X\"\"\"\n",
    "y = 2 * x + rng.random(10)\n"
   ]
  },
  {
   "cell_type": "code",
   "execution_count": null,
   "id": "c330ace5",
   "metadata": {},
   "outputs": [],
   "source": []
  }
 ],
 "metadata": {
  "kernelspec": {
   "display_name": "Python 3 (ipykernel)",
   "language": "python",
   "name": "python3"
  },
  "language_info": {
   "codemirror_mode": {
    "name": "ipython",
    "version": 3
   },
   "file_extension": ".py",
   "mimetype": "text/x-python",
   "name": "python",
   "nbconvert_exporter": "python",
   "pygments_lexer": "ipython3",
   "version": "3.9.12"
  }
 },
 "nbformat": 4,
 "nbformat_minor": 5
}
