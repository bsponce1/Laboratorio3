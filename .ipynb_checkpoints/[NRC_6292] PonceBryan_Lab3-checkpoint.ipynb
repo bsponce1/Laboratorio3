{
 "cells": [
  {
   "cell_type": "code",
   "execution_count": 1,
   "id": "81f6d891",
   "metadata": {},
   "outputs": [],
   "source": [
    "\"\"\"Importar numpy para realizar matrices\"\"\"\n",
    "import numpy as np\n",
    "\"\"\"Librería para generar números aleatorios\"\"\"\n",
    "from scipy import stats\n"
   ]
  },
  {
   "cell_type": "code",
   "execution_count": 2,
   "id": "ef883057",
   "metadata": {},
   "outputs": [],
   "source": [
    "\"\"\"Datos generados de manera random\"\"\"\n",
    "rng = np.random.default_rng()\n",
    "\n",
    "\"\"\"Genera 10 datos aleatorios y se guarda en la variable\"\"\"\n",
    "x = rng.random(10) \n",
    "\"\"\"Se crea el modelo en base a los datos de X\"\"\"\n",
    "y = 2 * x + rng.random(10)\n"
   ]
  },
  {
   "cell_type": "code",
   "execution_count": 3,
   "id": "75f6d2bf",
   "metadata": {},
   "outputs": [],
   "source": [
    "\"\"\"Calculo de la regresión lineal\"\"\"\n",
    "slope, intercept, r, p, std_err = stats.linregress(x, y)\n",
    "\"\"\"Se crea una función auxiliar\"\"\"\n",
    "def fitted_value(x):\n",
    "    return slope * x + intercept"
   ]
  },
  {
   "cell_type": "code",
   "execution_count": 4,
   "id": "7fe60bad",
   "metadata": {},
   "outputs": [],
   "source": [
    "\"\"\"Calculo de valores\"\"\"\n",
    "new_values = list(map(fitted_value, x))"
   ]
  },
  {
   "cell_type": "code",
   "execution_count": null,
   "id": "c4a925fe",
   "metadata": {},
   "outputs": [],
   "source": []
  }
 ],
 "metadata": {
  "kernelspec": {
   "display_name": "Python 3 (ipykernel)",
   "language": "python",
   "name": "python3"
  },
  "language_info": {
   "codemirror_mode": {
    "name": "ipython",
    "version": 3
   },
   "file_extension": ".py",
   "mimetype": "text/x-python",
   "name": "python",
   "nbconvert_exporter": "python",
   "pygments_lexer": "ipython3",
   "version": "3.9.12"
  }
 },
 "nbformat": 4,
 "nbformat_minor": 5
}
