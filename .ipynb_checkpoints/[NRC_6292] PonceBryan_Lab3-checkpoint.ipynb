{
 "cells": [
  {
   "cell_type": "code",
   "execution_count": 1,
   "id": "991a5bf1",
   "metadata": {},
   "outputs": [],
   "source": [
    "\"\"\"Importar numpy para realizar matrices\"\"\"\n",
    "import numpy as np\n",
    "\"\"\"Librería para generar números aleatorios\"\"\"\n",
    "from scipy import stats\n"
   ]
  },
  {
   "cell_type": "code",
   "execution_count": 2,
   "id": "40847f63",
   "metadata": {},
   "outputs": [],
   "source": [
    "\"\"\"Datos generados de manera random\"\"\"\n",
    "rng = np.random.default_rng()\n",
    "\n",
    "\"\"\"Genera 10 datos aleatorios y se guarda en la variable\"\"\"\n",
    "x = rng.random(10) \n",
    "\"\"\"Se crea el modelo en base a los datos de X\"\"\"\n",
    "y = 2 * x + rng.random(10)\n"
   ]
  },
  {
   "cell_type": "code",
   "execution_count": 3,
   "id": "62bbcb14",
   "metadata": {},
   "outputs": [
    {
     "ename": "NameError",
     "evalue": "name 'stats' is not defined",
     "output_type": "error",
     "traceback": [
      "\u001b[1;31m---------------------------------------------------------------------------\u001b[0m",
      "\u001b[1;31mNameError\u001b[0m                                 Traceback (most recent call last)",
      "Input \u001b[1;32mIn [3]\u001b[0m, in \u001b[0;36m<cell line: 2>\u001b[1;34m()\u001b[0m\n\u001b[0;32m      1\u001b[0m \u001b[38;5;124;03m\"\"\"Calculo de la regresión lineal\"\"\"\u001b[39;00m\n\u001b[1;32m----> 2\u001b[0m slope, intercept, r, p, std_err \u001b[38;5;241m=\u001b[39m \u001b[43mstats\u001b[49m\u001b[38;5;241m.\u001b[39mlinregress(x, y)\n\u001b[0;32m      3\u001b[0m \u001b[38;5;124;03m\"\"\"Se crea una función auxiliar\"\"\"\u001b[39;00m\n\u001b[0;32m      4\u001b[0m \u001b[38;5;28;01mdef\u001b[39;00m \u001b[38;5;21mfitted_value\u001b[39m(x):\n",
      "\u001b[1;31mNameError\u001b[0m: name 'stats' is not defined"
     ]
    }
   ],
   "source": [
    "\"\"\"Calculo de la regresión lineal\"\"\"\n",
    "slope, intercept, r, p, std_err = stats.linregress(x, y)\n",
    "\"\"\"Se crea una función auxiliar\"\"\"\n",
    "def fitted_value(x):\n",
    "    return slope * x + intercept\n"
   ]
  },
  {
   "cell_type": "code",
   "execution_count": null,
   "id": "7e9e8fab",
   "metadata": {},
   "outputs": [],
   "source": []
  }
 ],
 "metadata": {
  "kernelspec": {
   "display_name": "Python 3 (ipykernel)",
   "language": "python",
   "name": "python3"
  },
  "language_info": {
   "codemirror_mode": {
    "name": "ipython",
    "version": 3
   },
   "file_extension": ".py",
   "mimetype": "text/x-python",
   "name": "python",
   "nbconvert_exporter": "python",
   "pygments_lexer": "ipython3",
   "version": "3.9.12"
  }
 },
 "nbformat": 4,
 "nbformat_minor": 5
}
